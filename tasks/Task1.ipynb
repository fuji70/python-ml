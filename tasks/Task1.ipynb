{
 "cells": [
  {
   "cell_type": "code",
   "execution_count": null,
   "metadata": {
    "collapsed": false,
    "scrolled": true
   },
   "outputs": [],
   "source": [
    "# ライブラリのインポート\n",
    "\n",
    "from itertools import product\n",
    "import numpy as np\n",
    "import matplotlib.pyplot as plt\n",
    "from sklearn import datasets\n",
    "from sklearn.tree import DecisionTreeClassifier\n",
    "from sklearn.neighbors import KNeighborsClassifier\n",
    "from sklearn.svm import SVC\n",
    "from sklearn.discriminant_analysis import LinearDiscriminantAnalysis\n",
    "\n",
    "print(\"libraries imported\")"
   ]
  },
  {
   "cell_type": "code",
   "execution_count": null,
   "metadata": {
    "collapsed": false
   },
   "outputs": [],
   "source": [
    "# データを読み込む\n",
    "\n",
    "iris = datasets.load_iris()\n",
    "\n",
    "# データを見てみる\n",
    "#print(iris)\n",
    "print(\"Data\")\n",
    "print(iris.data.__class__)\n",
    "print(iris.data)\n",
    "print(\"Classes \", iris.target_names)\n",
    "print(iris.target.__class__)\n",
    "print(iris.target)"
   ]
  },
  {
   "cell_type": "code",
   "execution_count": null,
   "metadata": {
    "collapsed": false
   },
   "outputs": [],
   "source": [
    "# データをプロットしてみる\n",
    "\n",
    "plt.clf()\n",
    "f, axarr = plt.subplots(2, 2, sharex='col', sharey='row', figsize=(11, 10))\n",
    "\n",
    "axarr[0, 0].scatter(iris.data[:, 0], iris.data[:, 1], c=iris.target, alpha=0.6)\n",
    "axarr[0, 0].set_title(iris.feature_names[0] + \" vs \" + iris.feature_names[1])\n",
    "\n",
    "axarr[0, 1].scatter(iris.data[:, 1], iris.data[:, 2], c=iris.target, alpha=0.6)\n",
    "axarr[0, 1].set_title(iris.feature_names[1] + \" vs \" + iris.feature_names[2])\n",
    "\n",
    "axarr[1, 0].scatter(iris.data[:, 0], iris.data[:, 3], c=iris.target, alpha=0.6)\n",
    "axarr[1, 0].set_title(iris.feature_names[0] + \" vs \" + iris.feature_names[3])\n",
    "\n",
    "axarr[1, 1].scatter(iris.data[:, 2], iris.data[:, 3], c=iris.target, alpha=0.6)\n",
    "axarr[1, 1].set_title(iris.feature_names[2] + \" vs \" + iris.feature_names[3])\n",
    "\n",
    "plt.show()"
   ]
  },
  {
   "cell_type": "code",
   "execution_count": null,
   "metadata": {
    "collapsed": false
   },
   "outputs": [],
   "source": [
    "# 単純化のために2次元で扱う\n",
    "X = iris.data[:, [0, 3]]\n",
    "y = iris.target\n",
    "\n",
    "#　識別器のインスタンスをつくる\n",
    "svm = SVC(kernel='rbf', probability=True)\n",
    "\n",
    "# 学習させる\n",
    "svm.fit(X, y)\n",
    "\n",
    "# 予測する\n",
    "print(svm.predict([X[0]]))\n",
    "print(svm.predict([X[100]]))\n",
    "print(svm.predict([[4.5, 1.1]]))"
   ]
  },
  {
   "cell_type": "code",
   "execution_count": null,
   "metadata": {
    "collapsed": false
   },
   "outputs": [],
   "source": [
    "# 他の識別器も同じ使い方\n",
    "classifiers = [\n",
    "    LinearDiscriminantAnalysis(solver=\"svd\", store_covariance=True),\n",
    "    DecisionTreeClassifier(max_depth=4),\n",
    "    KNeighborsClassifier(n_neighbors=3),\n",
    "    SVC(kernel='rbf', probability=True),\n",
    "    ]\n",
    "\n",
    "for classifier in classifiers:\n",
    "    classifier.fit(X, y)\n",
    "\n",
    "# Plotting decision regions\n",
    "plt.clf()\n",
    "x_min, x_max = X[:, 0].min() - 1, X[:, 0].max() + 1\n",
    "y_min, y_max = X[:, 1].min() - 1, X[:, 1].max() + 1\n",
    "xx, yy = np.meshgrid(np.arange(x_min, x_max, 0.05), np.arange(y_min, y_max, 0.05))\n",
    "\n",
    "f, axarr = plt.subplots(2, 2, sharex='col', sharey='row', figsize=(11, 10))\n",
    "\n",
    "for index, classifier, title in zip([0, 1, 2, 3], classifiers, ['Linear DiscriminantAnalysis', 'Decision Tree (depth=4)', 'KNN (k=3)', 'Kernel SVM', 'Liner SVM']):\n",
    "    predicted = classifier.predict(np.c_[xx.ravel(), yy.ravel()])\n",
    "    predicted = predicted.reshape(xx.shape)\n",
    "    \n",
    "    #     print(predicted)\n",
    "    axarr[index // 2, index % 2].contourf(xx, yy, predicted, alpha=0.3)\n",
    "    axarr[index // 2, index % 2].scatter(X[:, 0], X[:, 1], c=y, alpha=0.6)\n",
    "    axarr[index // 2, index % 2].set_title(title)\n",
    "    \n",
    "plt.show()"
   ]
  },
  {
   "cell_type": "code",
   "execution_count": null,
   "metadata": {
    "collapsed": false
   },
   "outputs": [],
   "source": [
    "# clf.score\n",
    "\n",
    "svm = SVC(kernel='rbf', probability=True)\n",
    "svm.fit(X, y)\n",
    "\n",
    "print(\"Score for training set = \", svm.score(X, y))"
   ]
  },
  {
   "cell_type": "code",
   "execution_count": null,
   "metadata": {
    "collapsed": false
   },
   "outputs": [],
   "source": [
    "# テスト精度を計算してみる\n",
    "\n",
    "def train_and_test_score(clf, x, y, test_rate=0.15):\n",
    "    length = y.shape[0]\n",
    "    test_size = int(length * test_rate)\n",
    "    random_indices = np.random.permutation(length)\n",
    "\n",
    "    training_indices = random_indices[0:test_size]\n",
    "    clf.fit(x[training_indices], y[training_indices])\n",
    "    training_score = clf.score(x[training_indices], y[training_indices])\n",
    "\n",
    "    test_indices = random_indices[test_size:]\n",
    "    test_score = clf.score(x[test_indices], y[test_indices])\n",
    "    return training_score, test_score\n",
    "\n",
    "for clf in classifiers:\n",
    "    training_score, test_score = train_and_test_score(clf, X, y)\n",
    "    \n",
    "    print(clf.__class__)\n",
    "    print(\"Training score = \", training_score)\n",
    "    print(\"Test Score = \", test_score)"
   ]
  }
 ],
 "metadata": {
  "kernelspec": {
   "display_name": "Python 3",
   "language": "python",
   "name": "python3"
  },
  "language_info": {
   "codemirror_mode": {
    "name": "ipython",
    "version": 3
   },
   "file_extension": ".py",
   "mimetype": "text/x-python",
   "name": "python",
   "nbconvert_exporter": "python",
   "pygments_lexer": "ipython3",
   "version": "3.5.2"
  }
 },
 "nbformat": 4,
 "nbformat_minor": 2
}
