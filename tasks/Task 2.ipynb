{
 "cells": [
  {
   "cell_type": "code",
   "execution_count": null,
   "metadata": {
    "collapsed": false
   },
   "outputs": [],
   "source": [
    "# ライブラリのインポート\n",
    "\n",
    "from itertools import product\n",
    "import numpy as np\n",
    "import matplotlib.pyplot as plt\n",
    "from matplotlib import cm\n",
    "from sklearn import datasets\n",
    "from sklearn.base import BaseEstimator, ClassifierMixin\n",
    "from sklearn.model_selection import cross_val_score\n",
    "\n",
    "print(\"libraries imported\")"
   ]
  },
  {
   "cell_type": "code",
   "execution_count": null,
   "metadata": {
    "collapsed": false
   },
   "outputs": [],
   "source": [
    "# Load data\n",
    "digits = datasets.load_digits()\n",
    "\n",
    "# データを見てみる\n",
    "print(\"Data\")\n",
    "print(digits.data.__class__)\n",
    "print(digits.data.shape)\n",
    "print(digits.data)\n",
    "print(\"Classes \", digits.target_names)\n",
    "print(digits.target.__class__)\n",
    "print(digits.target)\n",
    "\n",
    "print(\"Sample Data\")\n",
    "print(digits.target[100])\n",
    "plt.imshow(digits.data[100].reshape(8, 8), cmap=cm.gray_r, interpolation='nearest')\n",
    "plt.show()\n",
    "\n",
    "print(digits.target[101])\n",
    "plt.imshow(digits.data[101].reshape(8, 8), cmap=cm.gray_r, interpolation='nearest')\n",
    "plt.show()"
   ]
  },
  {
   "cell_type": "code",
   "execution_count": null,
   "metadata": {
    "collapsed": true
   },
   "outputs": [],
   "source": [
    "## 使うデータはこれ\n",
    "X = digits.data # 64次元特徴ベクトル\n",
    "y = digits.target # 0から9のラベル"
   ]
  },
  {
   "cell_type": "code",
   "execution_count": null,
   "metadata": {
    "collapsed": false
   },
   "outputs": [],
   "source": [
    "# scikit-learnのモデルに準じたクラスを実装してみる\n",
    "from sklearn.base import BaseEstimator\n",
    "from collections import Counter\n",
    "\n",
    "# k-NN法の実装\n",
    "# see https://ja.wikipedia.org/wiki/K%E8%BF%91%E5%82%8D%E6%B3%95\n",
    "class MyNeaestNeiborClassifier(BaseEstimator, ClassifierMixin):\n",
    "    def __init__(self, neighbor_size=4):\n",
    "        self.neighbor_size = neighbor_size\n",
    "    \n",
    "    def fit(self, X, Y):\n",
    "        self.X = X\n",
    "        self.Y = Y\n",
    "        return self\n",
    "\n",
    "    def predict(self, newX):\n",
    "        distance_and_label = self._distance_and_label(newX)\n",
    "    \n",
    "        ## TODO\n",
    "        ## calculate most frequent label in neighbors of newX.\n",
    "        return 0\n",
    "    \n",
    "    def _distance_and_label(self, newX):\n",
    "        return [(self._distance(x, newX), y) for x, y in zip(self.X, self.Y)]\n",
    "    \n",
    "    def _distance(self, x1, x2):\n",
    "        return np.linalg.norm(x1 - x2)\n",
    "    \n",
    "    def score(self, X, y):\n",
    "        hit = 0\n",
    "        for index, x in enumerate(X):\n",
    "            pred = self.predict(x)\n",
    "            hit += 1 if pred == y[index] else 0\n",
    "                \n",
    "        return float(hit) / y.shape[0]"
   ]
  },
  {
   "cell_type": "code",
   "execution_count": null,
   "metadata": {
    "collapsed": false
   },
   "outputs": [],
   "source": [
    "# 上でつくった識別器の評価\n",
    "\n",
    "clf = MyNeaestNeiborClassifier()\n",
    "clf.fit(digits.data, digits.target)\n",
    "\n",
    "print(\"prediction\", clf.predict(X[100]))\n",
    "plt.imshow(digits.data[100].reshape(8, 8), cmap=cm.gray_r, interpolation='nearest')\n",
    "plt.show()\n",
    "\n",
    "print(\"prediction\", clf.predict(X[101]))\n",
    "plt.imshow(digits.data[101].reshape(8, 8), cmap=cm.gray_r, interpolation='nearest')\n",
    "plt.show()\n",
    "\n",
    "print(\"prediction\", clf.predict(X[102]))\n",
    "plt.imshow(digits.data[102].reshape(8, 8), cmap=cm.gray_r, interpolation='nearest')\n",
    "plt.show()\n",
    "\n",
    "scores = cross_val_score(clf, X, y, cv=5)\n",
    "print(\"Accuracy: %0.2f (+/- %0.2f)\" % (scores.mean(), scores.std() * 2))"
   ]
  }
 ],
 "metadata": {
  "kernelspec": {
   "display_name": "Python 3",
   "language": "python",
   "name": "python3"
  },
  "language_info": {
   "codemirror_mode": {
    "name": "ipython",
    "version": 3
   },
   "file_extension": ".py",
   "mimetype": "text/x-python",
   "name": "python",
   "nbconvert_exporter": "python",
   "pygments_lexer": "ipython3",
   "version": "3.5.2"
  }
 },
 "nbformat": 4,
 "nbformat_minor": 2
}
