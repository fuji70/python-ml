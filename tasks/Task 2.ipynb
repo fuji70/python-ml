{
 "cells": [
  {
   "cell_type": "code",
   "execution_count": 8,
   "metadata": {
    "collapsed": true
   },
   "outputs": [],
   "source": [
    "# ライブラリのインポート\n",
    "\n",
    "from itertools import product\n",
    "import numpy as np\n",
    "import matplotlib.pyplot as plt\n",
    "from matplotlib import cm\n",
    "from sklearn import datasets\n",
    "from sklearn.base import BaseEstimator, ClassifierMixin"
   ]
  },
  {
   "cell_type": "code",
   "execution_count": 15,
   "metadata": {
    "collapsed": false
   },
   "outputs": [
    {
     "name": "stdout",
     "output_type": "stream",
     "text": [
      "Data\n",
      "<class 'numpy.ndarray'>\n",
      "(1797, 64)\n",
      "[[  0.   0.   5. ...,   0.   0.   0.]\n",
      " [  0.   0.   0. ...,  10.   0.   0.]\n",
      " [  0.   0.   0. ...,  16.   9.   0.]\n",
      " ..., \n",
      " [  0.   0.   1. ...,   6.   0.   0.]\n",
      " [  0.   0.   2. ...,  12.   0.   0.]\n",
      " [  0.   0.  10. ...,  12.   1.   0.]]\n",
      "Classes  [0 1 2 3 4 5 6 7 8 9]\n",
      "<class 'numpy.ndarray'>\n",
      "[0 1 2 ..., 8 9 8]\n",
      "Sample Data\n",
      "4\n"
     ]
    },
    {
     "data": {
      "image/png": "[encoded data removed]",
      "text/plain": [
       "<matplotlib.figure.Figure at 0x7ffbb43a1208>"
      ]
     },
     "metadata": {},
     "output_type": "display_data"
    },
    {
     "name": "stdout",
     "output_type": "stream",
     "text": [
      "0\n"
     ]
    },
    {
     "data": {
      "image/png": "[encoded data removed]",
      "text/plain": [
       "<matplotlib.figure.Figure at 0x7ffbb1f17f98>"
      ]
     },
     "metadata": {},
     "output_type": "display_data"
    }
   ],
   "source": [
    "# Load data\n",
    "digits = datasets.load_digits()\n",
    "\n",
    "# データを見てみる\n",
    "#print(iris)\n",
    "print(\"Data\")\n",
    "print(digits.data.__class__)\n",
    "print(digits.data.shape)\n",
    "print(digits.data)\n",
    "print(\"Classes \", digits.target_names)\n",
    "print(digits.target.__class__)\n",
    "print(digits.target)\n",
    "\n",
    "print(\"Sample Data\")\n",
    "print(digits.target[100])\n",
    "plt.imshow(digits.data[100].reshape(8, 8), cmap=cm.gray_r, interpolation='nearest')\n",
    "plt.show()\n",
    "\n",
    "print(digits.target[101])\n",
    "plt.imshow(digits.data[101].reshape(8, 8), cmap=cm.gray_r, interpolation='nearest')\n",
    "plt.show()\n",
    "\n",
    "X = digits.data\n",
    "y = digits.target"
   ]
  },
  {
   "cell_type": "code",
   "execution_count": 28,
   "metadata": {
    "collapsed": false
   },
   "outputs": [
    {
     "name": "stdout",
     "output_type": "stream",
     "text": [
      "[ 0.9478022   0.95856354  0.96657382  0.98039216  0.96619718]\n",
      "[ 0.89285714  0.83977901  0.87465181  0.92436975  0.84788732]\n",
      "[ 0.43406593  0.40883978  0.41504178  0.48739496  0.49859155]\n"
     ]
    }
   ],
   "source": [
    "from sklearn.neighbors import KNeighborsClassifier\n",
    "from sklearn.model_selection import cross_val_score\n",
    "from sklearn.svm import SVC\n",
    "\n",
    "clf = KNeighborsClassifier(n_neighbors=4)\n",
    "scores = cross_val_score(clf, X, y, cv=5)\n",
    "print(scores)\n",
    "\n",
    "svm = SVC(kernel='rbf', probability=True)\n",
    "scores = cross_val_score(svm, X, y, cv=5)\n",
    "print(scores)"
   ]
  },
  {
   "cell_type": "code",
   "execution_count": 58,
   "metadata": {
    "collapsed": false
   },
   "outputs": [
    {
     "name": "stdout",
     "output_type": "stream",
     "text": [
      "4\n",
      "0\n"
     ]
    }
   ],
   "source": [
    "from sklearn.base import BaseEstimator\n",
    "from collections import Counter\n",
    "\n",
    "class MyNeaestNeiborClassifier(BaseEstimator, ClassifierMixin):\n",
    "    def __init__(self, neighbor_size=4):\n",
    "        self.neighbor_size = neighbor_size\n",
    "    \n",
    "    def fit(self, X, Y):\n",
    "        self.X = X\n",
    "        self.Y = Y\n",
    "        return self\n",
    "\n",
    "    def predict(self, newX):\n",
    "        distance_and_label = [[self._distance(x, newX), self.Y[index]] for index, x in enumerate(self.X)]\n",
    "        distance_and_label = sorted(distance_and_label, key=lambda d: d[0])[0:self.neighbor_size]\n",
    "        labels = [d[1] for d in distance_and_label]\n",
    "        counter = Counter(labels)\n",
    "        estimate = counter.most_common()\n",
    "        return estimate[0][0]\n",
    "    \n",
    "    def _distance(self, x1, x2):\n",
    "        return np.linalg.norm(x1 - x2)\n",
    "    \n",
    "    def score(self, x, y):\n",
    "        return 0\n",
    "\n",
    "    def get_params(self, deep=True):\n",
    "        return {'param1': self.param1, 'param2': self.param2}\n",
    "\n",
    "    def set_params(self, **parameters):\n",
    "        for parameter, value in parameters.items():\n",
    "            setattr(self,parameter, value)\n",
    "        return self\n",
    "    \n",
    "clf = MyNeaestNeiborClassifier()\n",
    "clf.fit(digits.data, digits.target)\n",
    "print(clf.predict(digits.data[100]))\n",
    "print(clf.predict(digits.data[101]))"
   ]
  }
 ],
 "metadata": {
  "kernelspec": {
   "display_name": "Python 3",
   "language": "python",
   "name": "python3"
  },
  "language_info": {
   "codemirror_mode": {
    "name": "ipython",
    "version": 3
   },
   "file_extension": ".py",
   "mimetype": "text/x-python",
   "name": "python",
   "nbconvert_exporter": "python",
   "pygments_lexer": "ipython3",
   "version": "3.5.2"
  }
 },
 "nbformat": 4,
 "nbformat_minor": 2
}
