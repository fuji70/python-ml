{
 "cells": [
  {
   "cell_type": "code",
   "execution_count": null,
   "metadata": {
    "collapsed": false
   },
   "outputs": [],
   "source": [
    "# ライブラリのインポート\n",
    "\n",
    "import numpy as np\n",
    "import matplotlib.pyplot as plt\n",
    "from sklearn.preprocessing import PolynomialFeatures\n",
    "from sklearn.pipeline import make_pipeline\n",
    "from sklearn import linear_model\n",
    "import math\n",
    "from sklearn.linear_model import LinearRegression\n",
    "\n",
    "print(\"libraries imported\")"
   ]
  },
  {
   "cell_type": "code",
   "execution_count": null,
   "metadata": {
    "collapsed": false
   },
   "outputs": [],
   "source": [
    "## 扱うデータ (x, y)\n",
    "x = np.array([ 0.90909091,  2.32323232,  2.72727273,  3.83838384,  5.25252525,\n",
    "        5.95959596,  6.86868687,  7.37373737,  7.97979798,  9.29292929])\n",
    "\n",
    "y = np.array([  27.13657518,   14.89246315,   65.98961322,   80.57840846,\n",
    "        100.50678496,  154.92689492,  173.1406391 ,  187.84441571,\n",
    "        178.34266211,   32.3566994 ])\n",
    "\n",
    "print(x.shape)\n",
    "print(y.shape)\n",
    "\n",
    "x_plot = np.linspace(0, 10, 100)\n",
    "\n",
    "# create matrix versions of these arrays\n",
    "X = x[:, np.newaxis]\n",
    "X_plot = x_plot[:, np.newaxis]\n",
    "\n",
    "colors = ['teal', 'yellowgreen', 'gold']\n",
    "lw = 2\n",
    "plt.scatter(x, y, color='navy', s=30, marker='o', label=\"training points\")\n",
    "\n",
    "plt.show()"
   ]
  },
  {
   "cell_type": "code",
   "execution_count": null,
   "metadata": {
    "collapsed": false
   },
   "outputs": [],
   "source": [
    "# 自分でフィットする関数を作ってみる\n",
    "def predict(X):\n",
    "    return [predict_point(x) for x in X]\n",
    "\n",
    "# math.sin(x)を使わないでフィットする式を立ててみる\n",
    "def predict_point(x):\n",
    "    return 10 + x - x ** 2 + 2 * x**3 - 0.2 * x**4\n",
    "\n",
    "plt.clf()\n",
    "plt.scatter(x, y, color='navy', s=30, marker='o', label=\"training points\")\n",
    "\n",
    "y_plot = predict(X_plot)\n",
    "plt.plot(x_plot, y_plot, color='blue', linewidth=lw, label=\"Handmade Prediction\")\n",
    "\n",
    "plt.show()"
   ]
  },
  {
   "cell_type": "code",
   "execution_count": null,
   "metadata": {
    "collapsed": false
   },
   "outputs": [],
   "source": [
    "## 1次元の線形回帰\n",
    "# create matrix versions of these arrays\n",
    "X = x[:, np.newaxis]\n",
    "\n",
    "reg = LinearRegression()\n",
    "reg.fit(X, y)\n",
    "\n",
    "\n",
    "## 予測\n",
    "print(reg.predict([0]))\n",
    "\n",
    "## Plot\n",
    "plt.clf()\n",
    "plt.scatter(x, y, color='navy', s=30, marker='o', label=\"training points\")\n",
    "\n",
    "y_plot = reg.predict(X_plot)\n",
    "plt.plot(x_plot, y_plot, color='blue', linewidth=lw, label=\"Handmade Prediction\")\n",
    "\n",
    "plt.show()"
   ]
  },
  {
   "cell_type": "code",
   "execution_count": null,
   "metadata": {
    "collapsed": false
   },
   "outputs": [],
   "source": [
    "## 2次元の線形回帰\n",
    "# create matrix versions of these arrays\n",
    "X = x[:, np.newaxis]\n",
    "\n",
    "## 高次元の特徴量を追加する。x*xを追加\n",
    "reg = make_pipeline(PolynomialFeatures(2), LinearRegression())\n",
    "reg.fit(X, y)\n",
    "\n",
    "## 予測\n",
    "print(reg.predict([0]))\n",
    "\n",
    "## Plot\n",
    "plt.clf()\n",
    "plt.scatter(x, y, color='navy', s=30, marker='o', label=\"training points\")\n",
    "\n",
    "y_plot = reg.predict(X_plot)\n",
    "plt.plot(x_plot, y_plot, color='blue', linewidth=lw, label=\"Handmade Prediction\")\n",
    "\n",
    "plt.show()"
   ]
  },
  {
   "cell_type": "code",
   "execution_count": null,
   "metadata": {
    "collapsed": false
   },
   "outputs": [],
   "source": [
    "## 1次元の線形回帰\n",
    "# create matrix versions of these arrays\n",
    "X = x[:, np.newaxis]\n",
    "\n",
    "for degree in range(2, 8):\n",
    "    ## 高次元の特徴量を追加する。\n",
    "    reg = make_pipeline(PolynomialFeatures(degree), LinearRegression())\n",
    "    reg.fit(X, y)\n",
    "    \n",
    "    print(\"score Y=f(x, degree={0})=\".format(degree), reg.score(X, y))\n",
    "    \n",
    "    ## Plot\n",
    "    plt.clf()\n",
    "    plt.scatter(x, y, color='navy', s=30, marker='o', label=\"training points\")\n",
    "\n",
    "    y_plot = reg.predict(X_plot)\n",
    "    plt.plot(x_plot, y_plot, color='blue', linewidth=lw, label=\"Handmade Prediction\")\n",
    "\n",
    "    plt.show()"
   ]
  },
  {
   "cell_type": "code",
   "execution_count": null,
   "metadata": {
    "collapsed": false
   },
   "outputs": [],
   "source": [
    "## データを作った関数\n",
    "def f(x):\n",
    "    return 10 + x - x ** 2 + 2 * x**3 - 0.2 * x**4\n",
    "\n",
    "x = np.linspace(0, 10, 100)\n",
    "rng = np.random.RandomState(232)\n",
    "rng.shuffle(x)\n",
    "x = np.sort(x[:30])\n",
    "y = f(x) + np.random.normal(loc=0, scale=20, size=30)\n",
    "\n",
    "plt.plot(x_plot, f(x_plot), color='cornflowerblue', linewidth=lw, label=\"ground truth\")\n",
    "plt.scatter(x, y, color='navy', s=30, marker='o', label=\"training points\")\n",
    "\n",
    "plt.show()"
   ]
  }
 ],
 "metadata": {
  "kernelspec": {
   "display_name": "Python 3",
   "language": "python",
   "name": "python3"
  },
  "language_info": {
   "codemirror_mode": {
    "name": "ipython",
    "version": 3
   },
   "file_extension": ".py",
   "mimetype": "text/x-python",
   "name": "python",
   "nbconvert_exporter": "python",
   "pygments_lexer": "ipython3",
   "version": "3.5.2"
  }
 },
 "nbformat": 4,
 "nbformat_minor": 2
}
