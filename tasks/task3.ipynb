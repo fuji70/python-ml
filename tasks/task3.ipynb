{
 "cells": [
  {
   "cell_type": "code",
   "execution_count": null,
   "metadata": {
    "collapsed": false
   },
   "outputs": [],
   "source": [
    "# ライブラリのインポート\n",
    "\n",
    "import numpy as np\n",
    "import matplotlib.pyplot as plt\n",
    "from sklearn.preprocessing import PolynomialFeatures\n",
    "from sklearn.pipeline import make_pipeline\n",
    "from sklearn import linear_model\n",
    "import math\n",
    "from sklearn.linear_model import LinearRegression\n",
    "\n",
    "print(\"libraries imported\")"
   ]
  },
  {
   "cell_type": "code",
   "execution_count": null,
   "metadata": {
    "collapsed": false
   },
   "outputs": [],
   "source": [
    "## 扱うデータ (x, y)\n",
    "x = np.array([  0.1010101 ,   0.4040404 ,   1.31313131,   1.41414141,\n",
    "         1.51515152,   2.12121212,   2.32323232,   2.62626263,\n",
    "         3.33333333,   3.53535354,   4.84848485,   5.15151515,\n",
    "         5.25252525,   5.65656566,   5.75757576,   5.85858586,\n",
    "         6.06060606,   6.26262626,   6.86868687,   7.17171717,\n",
    "         7.77777778,   8.18181818,   8.38383838,   8.48484848,\n",
    "         9.09090909,   9.19191919,   9.29292929,   9.39393939,\n",
    "         9.5959596 ,  10.])\n",
    "\n",
    "y = np.array([ -5.46050378e-02,  -2.92475195e+01,   2.22887159e+01,\n",
    "         2.35136215e+01,   2.08311255e+01,   1.14230325e+01,\n",
    "         3.28452539e+01,   5.98120422e+01,   5.80298965e+01,\n",
    "         4.36654304e+01,   1.00118336e+02,   1.47769619e+02,\n",
    "         1.31545758e+02,   1.10387318e+02,   1.43010464e+02,\n",
    "         1.40905904e+02,   1.72452366e+02,   1.68266976e+02,\n",
    "         1.34825938e+02,   1.62271436e+02,   1.57897364e+02,\n",
    "         1.46482787e+02,   1.38071602e+02,   1.32102141e+02,\n",
    "         7.04364586e+01,   7.14132111e+01,   6.31395989e+01,\n",
    "         1.10538096e+01,   2.22409516e+01,  -5.08296958e+01])\n",
    "\n",
    "print(x.shape)\n",
    "print(y.shape)\n",
    "x_plot = np.linspace(0, 10, 100)\n",
    "\n",
    "# create matrix versions of these arrays\n",
    "X = x[:, np.newaxis]\n",
    "X_plot = x_plot[:, np.newaxis]\n",
    "\n",
    "colors = ['teal', 'yellowgreen', 'gold']\n",
    "lw = 2\n",
    "plt.scatter(x, y, color='navy', s=30, marker='o', label=\"training points\")\n",
    "\n",
    "plt.show()"
   ]
  },
  {
   "cell_type": "code",
   "execution_count": null,
   "metadata": {
    "collapsed": false
   },
   "outputs": [],
   "source": [
    "# 自分でフィットする関数を作ってみる\n",
    "def predict(X):\n",
    "    return [predict_point(x) for x in X]\n",
    "\n",
    "# math.sin(x)を使わないでフィットする式を立ててみる\n",
    "def predict_point(x):\n",
    "    return 10 + x - x ** 2 + 2 * x**3 - 0.2 * x**4\n",
    "\n",
    "plt.clf()\n",
    "plt.scatter(x, y, color='navy', s=30, marker='o', label=\"training points\")\n",
    "\n",
    "y_plot = predict(X_plot)\n",
    "plt.plot(x_plot, y_plot, color='blue', linewidth=lw, label=\"Handmade Prediction\")\n",
    "\n",
    "plt.show()"
   ]
  },
  {
   "cell_type": "code",
   "execution_count": null,
   "metadata": {
    "collapsed": false
   },
   "outputs": [],
   "source": [
    "## 1次元の線形回帰\n",
    "# create matrix versions of these arrays\n",
    "X = x[:, np.newaxis]\n",
    "\n",
    "reg = LinearRegression()\n",
    "reg.fit(X, y)\n",
    "\n",
    "\n",
    "## 予測\n",
    "print(reg.predict([0]))\n",
    "\n",
    "## Plot\n",
    "plt.clf()\n",
    "plt.scatter(x, y, color='navy', s=30, marker='o', label=\"training points\")\n",
    "\n",
    "y_plot = reg.predict(X_plot)\n",
    "plt.plot(x_plot, y_plot, color='blue', linewidth=lw, label=\"Handmade Prediction\")\n",
    "\n",
    "plt.show()"
   ]
  },
  {
   "cell_type": "code",
   "execution_count": null,
   "metadata": {
    "collapsed": false
   },
   "outputs": [],
   "source": [
    "## 2次元の線形回帰\n",
    "# create matrix versions of these arrays\n",
    "X = x[:, np.newaxis]\n",
    "\n",
    "## 高次元の特徴量を追加する。x*xを追加\n",
    "reg = make_pipeline(PolynomialFeatures(2), LinearRegression())\n",
    "reg.fit(X, y)\n",
    "\n",
    "## 予測\n",
    "print(reg.predict([0]))\n",
    "\n",
    "## Plot\n",
    "plt.clf()\n",
    "plt.scatter(x, y, color='navy', s=30, marker='o', label=\"training points\")\n",
    "\n",
    "y_plot = reg.predict(X_plot)\n",
    "plt.plot(x_plot, y_plot, color='blue', linewidth=lw, label=\"Handmade Prediction\")\n",
    "\n",
    "plt.show()"
   ]
  },
  {
   "cell_type": "code",
   "execution_count": null,
   "metadata": {
    "collapsed": false
   },
   "outputs": [],
   "source": [
    "## 1次元の線形回帰\n",
    "# create matrix versions of these arrays\n",
    "X = x[:, np.newaxis]\n",
    "\n",
    "for degree in range(2, 8):\n",
    "    ## 高次元の特徴量を追加する。\n",
    "    reg = make_pipeline(PolynomialFeatures(degree), LinearRegression())\n",
    "    reg.fit(X, y)\n",
    "    \n",
    "    print(\"score Y=f(x, degree={0})=\".format(degree), reg.score(X, y))\n",
    "    \n",
    "    ## Plot\n",
    "    plt.clf()\n",
    "    plt.scatter(x, y, color='navy', s=30, marker='o', label=\"training points\")\n",
    "\n",
    "    y_plot = reg.predict(X_plot)\n",
    "    plt.plot(x_plot, y_plot, color='blue', linewidth=lw, label=\"Handmade Prediction\")\n",
    "\n",
    "    plt.show()"
   ]
  }
 ],
 "metadata": {
  "kernelspec": {
   "display_name": "Python 3",
   "language": "python",
   "name": "python3"
  },
  "language_info": {
   "codemirror_mode": {
    "name": "ipython",
    "version": 3
   },
   "file_extension": ".py",
   "mimetype": "text/x-python",
   "name": "python",
   "nbconvert_exporter": "python",
   "pygments_lexer": "ipython3",
   "version": "3.5.2"
  }
 },
 "nbformat": 4,
 "nbformat_minor": 2
}
